{
 "cells": [
  {
   "cell_type": "markdown",
   "id": "03e15f2a-07b5-48fd-8898-12dbbdcc436f",
   "metadata": {},
   "source": [
    "# Example\n",
    "## Dummy example use of the FCT model"
   ]
  },
  {
   "cell_type": "code",
   "execution_count": null,
   "id": "dc610743-1b51-4207-a244-2999ec579492",
   "metadata": {},
   "outputs": [],
   "source": [
    "import pickle\n",
    "import numpy as np\n",
    "\n",
    "from fct.FCT_MIP import FCT_MIP\n",
    "from fct.FCT_Extended import FCT_Extended\n",
    "from fct.DataHandler import DataHandler\n",
    "from fct.UtilityHelper import UtilityHelper\n",
    "from fct.TreeGenerator import TreeGenerator"
   ]
  },
  {
   "cell_type": "code",
   "execution_count": null,
   "id": "3a5c1151-e2a0-49e6-bd32-d81c7b6e0919",
   "metadata": {},
   "outputs": [],
   "source": [
    "depth = 2\n",
    "n = 100\n",
    "p = 5 # \n",
    "K = 2 # for non binary is required to slightly change the extending by XGBoost \n",
    "\n",
    "X = np.random.rand(n, p)\n",
    "y = np.random.randint(K, size=n)\n",
    "dataset_path = \"test_data.pickle\"\n",
    "\n",
    "# prepare data in the right format\n",
    "with open(dataset_path, \"wb\") as f:\n",
    "    pickle.dump((X, y, [], [f\"feature {i}\" for i in range(p)], \"dummy_data\"), f)"
   ]
  },
  {
   "cell_type": "code",
   "execution_count": null,
   "id": "87dc2d5e-8c3c-4887-95bc-f35ed4d8774f",
   "metadata": {},
   "outputs": [],
   "source": [
    "data_handler = DataHandler(dataset_path)\n",
    "X_train, y_train = data_handler.get_training_data(split_seed=0, test_size=0.2)\n",
    "utils = UtilityHelper(data_handler)\n",
    "\n",
    "fct = FCT_MIP(depth, data_handler, hard_constraint=True)\n",
    "fct.make_model(X_train, y_train)\n",
    "fct.optimize(verbose=False, time_limit=200) # setting time limit to 200 seconds\n",
    "\n",
    "# generates test_tree.pdf and test_tree_red.pdf showing the original and reduced FCT trees respectively\n",
    "utils.visualize_from_ctx(fct.get_base_context(), \"test_tree\")"
   ]
  },
  {
   "cell_type": "code",
   "execution_count": null,
   "id": "26bcd020-b35d-4f49-9623-704c5639654e",
   "metadata": {},
   "outputs": [],
   "source": [
    "# Extend the tree with XGBoost models\n",
    "gen = TreeGenerator(data_handler)\n",
    "tree = gen.make_from_context(fct.get_base_context())\n",
    "hybrid = FCT_Extended(tree, data_handler, seed=0, search_iterations=10)\n",
    "\n",
    "X, y = data_handler.test_data\n",
    "# this is done, because in normalization we also round to 4 decimals, this puts the data in the expected precision \n",
    "X = data_handler.unnormalize(data_handler.normalize(X))\n",
    "test_leaf_acc, test_acc = hybrid.compute_accuracy(X, y)\n",
    "\n",
    "print(f\"Leaf accuracy is {test_leaf_acc} \\nHybrid-tree accuracy is {test_acc}\")"
   ]
  },
  {
   "cell_type": "code",
   "execution_count": null,
   "id": "9875ef84-088c-4834-81b8-08b833dd1388",
   "metadata": {},
   "outputs": [],
   "source": []
  }
 ],
 "metadata": {
  "kernelspec": {
   "display_name": "Python 3 (ipykernel)",
   "language": "python",
   "name": "python3"
  },
  "language_info": {
   "codemirror_mode": {
    "name": "ipython",
    "version": 3
   },
   "file_extension": ".py",
   "mimetype": "text/x-python",
   "name": "python",
   "nbconvert_exporter": "python",
   "pygments_lexer": "ipython3",
   "version": "3.10.4"
  }
 },
 "nbformat": 4,
 "nbformat_minor": 5
}
